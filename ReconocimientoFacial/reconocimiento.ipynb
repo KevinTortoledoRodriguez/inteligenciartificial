{
 "cells": [
  {
   "cell_type": "code",
   "execution_count": 6,
   "metadata": {},
   "outputs": [],
   "source": [
    "import cv2\n",
    "import os"
   ]
  },
  {
   "cell_type": "code",
   "execution_count": 7,
   "metadata": {},
   "outputs": [
    {
     "name": "stdout",
     "output_type": "stream",
     "text": [
      "imagePaths= ['Jorge', 'Kevin', 'Oscar']\n"
     ]
    }
   ],
   "source": [
    "dataPath = 'D:\\Repositorios\\inteligenciartificial\\ReconocimientoFacial\\Data'\n",
    "imagePaths = os.listdir(dataPath)\n",
    "print('imagePaths=', imagePaths)\n",
    "face_recognizer = cv2.face.EigenFaceRecognizer_create()"
   ]
  },
  {
   "cell_type": "code",
   "execution_count": 3,
   "metadata": {},
   "outputs": [],
   "source": [
    "face_recognizer.read('modeloEigenFace.xml')\n",
    "cap = cv2.VideoCapture('Imagenes de prueba/kevin.mp4')\n",
    "faceClassif = cv2.CascadeClassifier(cv2.data.haarcascades+'haarcascade_frontalface_default.xml')"
   ]
  },
  {
   "cell_type": "code",
   "execution_count": 4,
   "metadata": {},
   "outputs": [],
   "source": [
    "while True:\n",
    "  ret, frame = cap.read()\n",
    "  if ret == False: break\n",
    "  gray = cv2.cvtColor(frame, cv2.COLOR_BGR2GRAY)\n",
    "  auxFrame = gray.copy()\n",
    "\n",
    "  faces = faceClassif.detectMultiScale(gray,1.3,5)\n",
    "\n",
    "  for(x,y,w,h) in faces:\n",
    "    rostro = auxFrame[y:y+h, x:x+w]\n",
    "    rostro = cv2.resize(rostro, (150,150), interpolation= cv2.INTER_CUBIC)\n",
    "    result = face_recognizer.predict(rostro)\n",
    "\n",
    "    cv2.putText(frame, '{}'.format(result),(x,y-5),1,1.3,(255,255,0),1,cv2.LINE_AA)\n",
    "\n",
    "    #EigenFaces\n",
    "    if result[1] < 5700:\n",
    "        cv2.putText(frame,'{}'.format(imagePaths[result[0]]),(x,y-25),2,1.1,(0,255,0),1,cv2.LINE_AA)\n",
    "        cv2.rectangle(frame, (x,y),(x+w,y+h),(0,255,0),2)\n",
    "    else:\n",
    "        cv2.putText(frame,'Desconocido',(x,y-20),2,0.8,(0,0,255),1,cv2.LINE_AA)\n",
    "        cv2.rectangle(frame, (x,y),(x+w,y+h),(0,0,255),2)\n",
    "    '''\n",
    "    # FisherFace\n",
    "          if result[1] < 500:\n",
    "              cv2.putText(frame,'{}'.format(imagePaths[result[0]]),(x,y-25),2,1.1,(0,255,0),1,cv2.LINE_AA)\n",
    "              cv2.rectangle(frame, (x,y),(x+w,y+h),(0,255,0),2)\n",
    "          else:\n",
    "              cv2.putText(frame,'Desconocido',(x,y-20),2,0.8,(0,0,255),1,cv2.LINE_AA)\n",
    "              cv2.rectangle(frame, (x,y),(x+w,y+h),(0,0,255),2)\n",
    "          \n",
    "          # LBPHFace\n",
    "          if result[1] < 70:\n",
    "              cv2.putText(frame,'{}'.format(imagePaths[result[0]]),(x,y-25),2,1.1,(0,255,0),1,cv2.LINE_AA)\n",
    "              cv2.rectangle(frame, (x,y),(x+w,y+h),(0,255,0),2)\n",
    "          else:\n",
    "              cv2.putText(frame,'Desconocido',(x,y-20),2,0.8,(0,0,255),1,cv2.LINE_AA)\n",
    "              cv2.rectangle(frame, (x,y),(x+w,y+h),(0,0,255),2)\n",
    "          '''\n",
    "  cv2.imshow('frame',frame)\n",
    "  k = cv2.waitKey(1)\n",
    "  if k == 27:\n",
    "    break"
   ]
  },
  {
   "cell_type": "code",
   "execution_count": 5,
   "metadata": {},
   "outputs": [],
   "source": [
    "cap.release()\n",
    "cv2.destroyAllWindows()"
   ]
  }
 ],
 "metadata": {
  "interpreter": {
   "hash": "322e1d5fdc9991bbd2e46a8ba8dec53f6bdcd528645d7bb1beef368628fc6530"
  },
  "kernelspec": {
   "display_name": "Python 3.10.4 64-bit",
   "language": "python",
   "name": "python3"
  },
  "language_info": {
   "codemirror_mode": {
    "name": "ipython",
    "version": 3
   },
   "file_extension": ".py",
   "mimetype": "text/x-python",
   "name": "python",
   "nbconvert_exporter": "python",
   "pygments_lexer": "ipython3",
   "version": "3.10.4"
  },
  "orig_nbformat": 4
 },
 "nbformat": 4,
 "nbformat_minor": 2
}
