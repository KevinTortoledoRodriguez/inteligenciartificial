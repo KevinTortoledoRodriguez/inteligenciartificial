{
 "cells": [
  {
   "cell_type": "code",
   "execution_count": 32,
   "metadata": {},
   "outputs": [],
   "source": [
    "import cv2\n",
    "import os\n",
    "import imutils"
   ]
  },
  {
   "cell_type": "code",
   "execution_count": 33,
   "metadata": {},
   "outputs": [],
   "source": [
    "#personName = 'Jorge'\n",
    "#personName = 'Kevin'\n",
    "personName = 'Oscar'\n",
    "dataPath = 'D:\\Repositorios\\inteligenciartificial\\ReconocimientoFacial\\Data'\n",
    "personPath = dataPath + '/' + personName"
   ]
  },
  {
   "cell_type": "code",
   "execution_count": 34,
   "metadata": {},
   "outputs": [],
   "source": [
    "if not os.path.exists(personPath):\n",
    "  print('Carpeta Creada: ', personPath)\n",
    "  os.makedirs(personPath)"
   ]
  },
  {
   "cell_type": "code",
   "execution_count": 35,
   "metadata": {},
   "outputs": [],
   "source": [
    "##cap = cv2.VideoCapture('Kevin 2.mp4')\n",
    "#cap = cv2.VideoCapture('Jorge.mp4')\n",
    "cap = cv2.VideoCapture('Oscar 2.mp4')"
   ]
  },
  {
   "cell_type": "code",
   "execution_count": 36,
   "metadata": {},
   "outputs": [],
   "source": [
    "faceClassif = cv2.CascadeClassifier(cv2.data.haarcascades+'haarcascade_frontalface_default.xml')\n",
    "count = 0\n",
    "\n",
    "while True:\n",
    "  ret, frame = cap.read()\n",
    "  if ret == False: break\n",
    "  frame = imutils.resize(frame, width=640)\n",
    "  gray = cv2.cvtColor(frame, cv2.COLOR_BGR2GRAY)\n",
    "  auxFrame = frame.copy()\n",
    "\n",
    "  faces = faceClassif.detectMultiScale(gray,1.3,5)\n",
    "\n",
    "  for (x,y,w,h) in faces:\n",
    "    cv2.rectangle(frame, (x,y), (x+w, h),(0,255,0),2)\n",
    "    rostro = auxFrame[y:y+h, x:x+w]\n",
    "    rostro = cv2.resize(rostro,(150,150), interpolation=cv2.INTER_CUBIC)\n",
    "    cv2.imwrite(personPath + '/rostro_{}.jpg'.format(count),rostro)\n",
    "    count = count + 1\n",
    "  cv2.imshow('frame', frame)\n",
    "\n",
    "  k = cv2.waitKey(1)\n",
    "  if k == 27 or count >= 300:\n",
    "    break"
   ]
  },
  {
   "cell_type": "code",
   "execution_count": 37,
   "metadata": {},
   "outputs": [],
   "source": [
    "cap.release()\n",
    "cv2.destroyAllWindows()"
   ]
  }
 ],
 "metadata": {
  "interpreter": {
   "hash": "322e1d5fdc9991bbd2e46a8ba8dec53f6bdcd528645d7bb1beef368628fc6530"
  },
  "kernelspec": {
   "display_name": "Python 3.10.4 64-bit",
   "language": "python",
   "name": "python3"
  },
  "language_info": {
   "codemirror_mode": {
    "name": "ipython",
    "version": 3
   },
   "file_extension": ".py",
   "mimetype": "text/x-python",
   "name": "python",
   "nbconvert_exporter": "python",
   "pygments_lexer": "ipython3",
   "version": "3.10.4"
  },
  "orig_nbformat": 4
 },
 "nbformat": 4,
 "nbformat_minor": 2
}
